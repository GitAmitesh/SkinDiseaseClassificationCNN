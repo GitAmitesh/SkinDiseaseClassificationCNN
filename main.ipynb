{
  "nbformat": 4,
  "nbformat_minor": 0,
  "metadata": {
    "colab": {
      "provenance": [],
      "authorship_tag": "ABX9TyPAgAjjskVrwgopM0vfGBJv",
      "include_colab_link": true
    },
    "kernelspec": {
      "name": "python3",
      "display_name": "Python 3"
    },
    "language_info": {
      "name": "python"
    }
  },
  "cells": [
    {
      "cell_type": "markdown",
      "metadata": {
        "id": "view-in-github",
        "colab_type": "text"
      },
      "source": [
        "<a href=\"https://colab.research.google.com/github/GitAmitesh/SkinDiseaseClassificationCNN/blob/main/main.ipynb\" target=\"_parent\"><img src=\"https://colab.research.google.com/assets/colab-badge.svg\" alt=\"Open In Colab\"/></a>"
      ]
    },
    {
      "cell_type": "markdown",
      "source": [
        "# Skin Disease Classification using CNN\n"
      ],
      "metadata": {
        "id": "SbkLgWNz2thN"
      }
    },
    {
      "cell_type": "markdown",
      "source": [
        "### Imports"
      ],
      "metadata": {
        "id": "iTIRlKwU3F3F"
      }
    },
    {
      "cell_type": "code",
      "source": [
        "import zipfile\n",
        "import os\n",
        "from google.colab import drive\n",
        "import pandas as pd\n",
        "import glob\n"
      ],
      "metadata": {
        "id": "7andfd8e3IJc"
      },
      "execution_count": null,
      "outputs": []
    },
    {
      "cell_type": "markdown",
      "source": [
        "### Files extraction"
      ],
      "metadata": {
        "id": "feuqyPdR24dG"
      }
    },
    {
      "cell_type": "code",
      "execution_count": null,
      "metadata": {
        "id": "pQ5yr3Jd1LMJ"
      },
      "outputs": [],
      "source": [
        "!fusermount -u drive\n",
        "drive.mount('/content/drive')\n",
        "\n",
        "# Define the path of your ZIP file\n",
        "zip_path = \"/content/drive/MyDrive/HAM10000/HAM10000.zip\"  # Change this to your actual file path\n",
        "extraction_path = \"/content/drive/MyDrive/HAM10000/\"  # Change this to your desired extraction path\n",
        "\n",
        "# Extract the ZIP file\n",
        "with zipfile.ZipFile(zip_path, 'r') as zip_ref:\n",
        "    zip_ref.extractall(extraction_path)  # Extract into a specific folder\n",
        "\n",
        "print(\"Dataset Extracted Successfully!\")"
      ]
    },
    {
      "cell_type": "code",
      "source": [
        "print(\"Folders and files inside dataset:\")\n",
        "print(os.listdir(dataset_path))  # Lists extracted files & folders"
      ],
      "metadata": {
        "id": "d65wvgUP4b2o"
      },
      "execution_count": null,
      "outputs": []
    },
    {
      "cell_type": "code",
      "source": [
        "# Load metadata CSV file\n",
        "metadata_path = os.path.join(extraction_path, \"HAM10000_metadata.csv\")  # Ensure correct file name\n",
        "df = pd.read_csv(metadata_path)\n",
        "\n",
        "# Display first few rows\n",
        "df.head()"
      ],
      "metadata": {
        "id": "wpSvxiLn4ksO"
      },
      "execution_count": null,
      "outputs": []
    },
    {
      "cell_type": "code",
      "source": [
        "# Get all image file paths\n",
        "image_paths1 = glob.glob(os.path.join(dataset_path, \"images_part1\", \"*.jpg\"))\n",
        "image_paths2 = glob.glob(os.path.join(dataset_path, \"images_part2\", \"*.jpg\"))\n",
        "\n",
        "# Merge both image lists\n",
        "all_image_paths = image_paths1 + image_paths2\n",
        "\n",
        "# Convert list to dictionary for easy lookup\n",
        "image_path_dict = {os.path.basename(path): path for path in all_image_paths}\n",
        "\n",
        "# Add image paths to DataFrame\n",
        "df[\"image_path\"] = df[\"image_id\"].map(lambda id: image_path_dict.get(id + \".jpg\"))\n",
        "\n",
        "# Display updated DataFrame\n",
        "df.head()"
      ],
      "metadata": {
        "id": "dEhBrnGS6rLI"
      },
      "execution_count": null,
      "outputs": []
    },
    {
      "cell_type": "code",
      "source": [
        "import matplotlib.pyplot as plt\n",
        "import cv2\n",
        "\n",
        "# Load and display a sample image\n",
        "sample_image_path = df.iloc[0][\"image_path\"]\n",
        "image = cv2.imread(sample_image_path)\n",
        "image = cv2.cvtColor(image, cv2.COLOR_BGR2RGB)  # Convert to RGB for proper visualization\n",
        "\n",
        "plt.imshow(image)\n",
        "plt.axis(\"off\")\n",
        "plt.title(f\"Sample Image - {df.iloc[0]['dx']}\")\n",
        "plt.show()"
      ],
      "metadata": {
        "id": "JbJxc_k-7BJi"
      },
      "execution_count": null,
      "outputs": []
    }
  ]
}